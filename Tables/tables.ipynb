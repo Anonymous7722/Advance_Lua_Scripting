{
 "cells": [
  {
   "cell_type": "markdown",
   "id": "4aea78c0",
   "metadata": {},
   "source": [
    "## 🎯 1. 💡 CONCEPT: What is a Table?\n",
    "\n",
    "🔲 A variable that holds MULTIPLE values\n",
    "\n",
    "A table in Lua is like a magic box that can store anything: numbers, strings, functions, other tables, or even nothing 😮\n",
    "\n",
    "When you master tables, you unlock…\n",
    "- ☑️ Inventory Systems\n",
    "- ☑️ Enemy Spawning\n",
    "- ☑️ Save Data\n",
    "- ☑️ Damage Multipliers\n",
    "- ☑️ Skill Trees\n",
    "- ☑️ WORLD DOMINATION 🦾💥"
   ]
  },
  {
   "cell_type": "markdown",
   "id": "8e39840f",
   "metadata": {},
   "source": [
    "## 🎮 Example Table (List style):"
   ]
  },
  {
   "cell_type": "code",
   "execution_count": null,
   "id": "4adae4db",
   "metadata": {
    "vscode": {
     "languageId": "plaintext"
    }
   },
   "outputs": [],
   "source": [
    "local fruits = {\"🍎\", \"🍌\", \"🍇\"}\n",
    "print(fruits[1]) -- 🍎"
   ]
  },
  {
   "cell_type": "markdown",
   "id": "8fe18026",
   "metadata": {},
   "source": [
    "## 🔑 Example Table (Dictionary style):"
   ]
  },
  {
   "cell_type": "code",
   "execution_count": null,
   "id": "6cba99c9",
   "metadata": {
    "vscode": {
     "languageId": "plaintext"
    }
   },
   "outputs": [],
   "source": [
    "local playerStats = {\n",
    "    Health = 100,\n",
    "    Mana = 50,\n",
    "    Speed = 16\n",
    "}\n",
    "print(playerStats.Health) -- 100"
   ]
  },
  {
   "cell_type": "markdown",
   "id": "d9bd9084",
   "metadata": {},
   "source": [
    "## 🧩 2. ⚙️ BASIC PROPERTIES / STRUCTURE\n",
    "\n",
    "| 📦 Type              | 💥 Structure                     | 💡 Access                       |\n",
    "| -------------------- | -------------------------------- | ------------------------------- |\n",
    "| **Array / List**     | `{value1, value2, value3}`       | By index: `t[1]`                |\n",
    "| **Dictionary / Map** | `{key1 = value1, key2 = value2}` | By key: `t.key1` or `t[\"key1\"]` |\n",
    "\n",
    "And yes, you can mix them together like a chaos wizard. 🧙‍♂️"
   ]
  },
  {
   "cell_type": "markdown",
   "id": "33282873",
   "metadata": {},
   "source": [
    "## 🛠️ 3. 🧠 Useful Methods and Tricks\n",
    "\n",
    "✅ table.insert(t, value) – Add to end of list"
   ]
  },
  {
   "cell_type": "code",
   "execution_count": null,
   "id": "138e09b9",
   "metadata": {
    "vscode": {
     "languageId": "plaintext"
    }
   },
   "outputs": [],
   "source": [
    "table.insert(fruits, \"🍍\")\n",
    "-- fruits = {\"🍎\", \"🍌\", \"🍇\", \"🍍\"}"
   ]
  },
  {
   "cell_type": "markdown",
   "id": "dfcf758f",
   "metadata": {},
   "source": [
    "✅ table.remove(t, index) – Remove by index"
   ]
  },
  {
   "cell_type": "code",
   "execution_count": null,
   "id": "7eef53aa",
   "metadata": {
    "vscode": {
     "languageId": "plaintext"
    }
   },
   "outputs": [],
   "source": [
    "table.remove(fruits, 2)\n",
    "-- removes \"🍌\""
   ]
  },
  {
   "cell_type": "markdown",
   "id": "34c78632",
   "metadata": {},
   "source": [
    "✅ #table – Get table length (array only)"
   ]
  },
  {
   "cell_type": "code",
   "execution_count": null,
   "id": "1d3990c0",
   "metadata": {
    "vscode": {
     "languageId": "plaintext"
    }
   },
   "outputs": [],
   "source": [
    "print(#fruits) --> 3"
   ]
  },
  {
   "cell_type": "markdown",
   "id": "675176a4",
   "metadata": {},
   "source": [
    "✅ table.sort(t) – Sort values in order"
   ]
  },
  {
   "cell_type": "code",
   "execution_count": null,
   "id": "a424a021",
   "metadata": {
    "vscode": {
     "languageId": "plaintext"
    }
   },
   "outputs": [],
   "source": [
    "✅ table.sort(t) – Sort values in order"
   ]
  },
  {
   "cell_type": "markdown",
   "id": "4d6209a8",
   "metadata": {},
   "source": [
    "✅ table.concat(t, \", \") – Join values into string"
   ]
  },
  {
   "cell_type": "code",
   "execution_count": null,
   "id": "ad0ab6bf",
   "metadata": {
    "vscode": {
     "languageId": "plaintext"
    }
   },
   "outputs": [],
   "source": [
    "print(table.concat(fruits, \", \"))\n",
    "-- Output: 🍎, 🍇, 🍍"
   ]
  },
  {
   "cell_type": "markdown",
   "id": "f6c86e53",
   "metadata": {},
   "source": [
    "## ⚡ 4. 🔥 ADVANCED TABLE TECH: Real Power Unlocked\n",
    "\n",
    "🎮 Iterating: for i, v in ipairs(table)\n",
    "\n",
    "- Use for arrays/lists"
   ]
  },
  {
   "cell_type": "code",
   "execution_count": null,
   "id": "9b712165",
   "metadata": {
    "vscode": {
     "languageId": "plaintext"
    }
   },
   "outputs": [],
   "source": [
    "for i, v in ipairs(fruits) do\n",
    "    print(i, v)\n",
    "end\n"
   ]
  },
  {
   "cell_type": "markdown",
   "id": "c8c9c4eb",
   "metadata": {},
   "source": [
    "📜 Iterating: for k, v in pairs(table)\n",
    "\n",
    "- Use for dictionaries"
   ]
  },
  {
   "cell_type": "code",
   "execution_count": null,
   "id": "97626480",
   "metadata": {
    "vscode": {
     "languageId": "plaintext"
    }
   },
   "outputs": [],
   "source": [
    "for key, value in pairs(playerStats) do\n",
    "    print(key, value)\n",
    "end"
   ]
  },
  {
   "cell_type": "markdown",
   "id": "3a07e370",
   "metadata": {},
   "source": [
    "## 🧠 Update a Value"
   ]
  },
  {
   "cell_type": "code",
   "execution_count": null,
   "id": "5859aa9d",
   "metadata": {
    "vscode": {
     "languageId": "plaintext"
    }
   },
   "outputs": [],
   "source": [
    "playerStats.Health = playerStats.Health - 20"
   ]
  },
  {
   "cell_type": "markdown",
   "id": "991d7265",
   "metadata": {},
   "source": [
    "🧪 Check If a Value Exists"
   ]
  },
  {
   "cell_type": "code",
   "execution_count": null,
   "id": "8f5157de",
   "metadata": {
    "vscode": {
     "languageId": "plaintext"
    }
   },
   "outputs": [],
   "source": [
    "for i, v in ipairs(fruits) do\n",
    "    if v == \"🍇\" then\n",
    "        print(\"We got grapes!\")\n",
    "    end\n",
    "end"
   ]
  },
  {
   "cell_type": "markdown",
   "id": "055609e0",
   "metadata": {},
   "source": [
    "## 🧙 5. 💥 TABLE OF TABLES (Nested Tables)\n",
    "\n",
    "This is how you build inventory systems, enemy waves, skills, etc."
   ]
  },
  {
   "cell_type": "code",
   "execution_count": null,
   "id": "50d4d5fa",
   "metadata": {
    "vscode": {
     "languageId": "plaintext"
    }
   },
   "outputs": [],
   "source": [
    "local enemies = {\n",
    "    {Name = \"Zombie\", HP = 100},\n",
    "    {Name = \"Skeleton\", HP = 80}\n",
    "}\n",
    "\n",
    "print(enemies[1].Name) --> \"Zombie\"\n"
   ]
  },
  {
   "cell_type": "markdown",
   "id": "05feace4",
   "metadata": {},
   "source": [
    "## 🧪 6. Pro Tips\n",
    "\n",
    "| 💡 Trick                  | 🧠 Why It’s Awesome                              |\n",
    "| ------------------------- | ------------------------------------------------ |\n",
    "| `table.clear(table)`      | Clears all values (Lua 5.4+)                     |\n",
    "| `table.clone(table)`      | Duplicates table (Roblox custom function needed) |\n",
    "| `table.find(table, v)`    | Find index of a value (Roblox-only method)       |\n",
    "| Use `.Name` or `[\"Name\"]` | Both work for dictionary keys                    |\n",
    "| Store functions in tables | Make table-based objects like OOP!               |\n"
   ]
  },
  {
   "cell_type": "markdown",
   "id": "e15e2d55",
   "metadata": {},
   "source": [
    "## 🚀 7. MINI PROJECT CHALLENGE: Inventory System"
   ]
  },
  {
   "cell_type": "code",
   "execution_count": null,
   "id": "00f08355",
   "metadata": {
    "vscode": {
     "languageId": "plaintext"
    }
   },
   "outputs": [],
   "source": [
    "local inventory = {}\n",
    "\n",
    "function AddItem(item)\n",
    "    table.insert(inventory, item)\n",
    "end\n",
    "\n",
    "function ShowInventory()\n",
    "    for i, item in ipairs(inventory) do\n",
    "        print(\"Slot\", i, \":\", item)\n",
    "    end\n",
    "end\n",
    "\n",
    "AddItem(\"Sword 🗡️\")\n",
    "AddItem(\"Potion 🧪\")\n",
    "AddItem(\"Shield 🛡️\")\n",
    "ShowInventory()"
   ]
  },
  {
   "cell_type": "markdown",
   "id": "7f77bc98",
   "metadata": {},
   "source": [
    "## 🧠 RECAP BRAIN BOOSTER:\n",
    "\n",
    "| 🔥 You Wanna...        | 🧠 Table Format            |\n",
    "| ---------------------- | -------------------------- |\n",
    "| Store items in order   | `{\"Item1\", \"Item2\"}`       |\n",
    "| Label data like stats  | `{Health = 100}`           |\n",
    "| Mix both               | `{[1] = \"Item\", HP = 100}` |\n",
    "| Loop through list      | `ipairs()`                 |\n",
    "| Loop through key-value | `pairs()`                  |\n"
   ]
  },
  {
   "cell_type": "markdown",
   "id": "ea856a06",
   "metadata": {},
   "source": []
  },
  {
   "cell_type": "markdown",
   "metadata": {},
   "source": []
  }
 ],
 "metadata": {
  "language_info": {
   "name": "python"
  }
 },
 "nbformat": 4,
 "nbformat_minor": 5
}
