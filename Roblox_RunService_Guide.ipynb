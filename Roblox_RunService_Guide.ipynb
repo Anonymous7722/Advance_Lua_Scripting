{
 "cells": [
  {
   "cell_type": "markdown",
   "id": "888c9575",
   "metadata": {},
   "source": [
    "\n",
    "# Roblox RunService Advanced Guide 🎮⚡\n",
    "\n",
    "## 0:00 Intro\n",
    "Welcome, scripters! Today we’re diving deep into the **RunService** — one of Roblox’s most important services for managing game loops, frame updates, and runtime context.  \n",
    "Think of it as Roblox’s \"heartbeat\" that drives all the constant updates in your game.\n",
    "\n",
    "We’ll explore:\n",
    "- `Heartbeat`\n",
    "- `Stepped`\n",
    "- `RenderStepped`\n",
    "- Delta time\n",
    "- Script context checks\n",
    "- Real game optimizations  \n",
    "…and we’ll end with a **mini-project**.\n"
   ]
  },
  {
   "cell_type": "markdown",
   "id": "b1d4163c",
   "metadata": {},
   "source": [
    "\n",
    "## 0:51 CONCEPTION 🧠\n",
    "The `RunService` allows you to run code every frame, or on specific update steps.  \n",
    "It connects your logic to Roblox's internal frame cycle.\n",
    "\n",
    "Think of it like a conductor in an orchestra — telling your game scripts exactly when to \"play\".\n",
    "\n",
    "**Use cases:**\n",
    "- Animations that aren’t handled by Roblox's built-in animation system\n",
    "- Continuous movement/physics adjustments\n",
    "- Real-time UI updates\n",
    "- Timed effects\n",
    "\n",
    "**Service access:**\n",
    "```lua\n",
    "local RunService = game:GetService(\"RunService\")\n",
    "```\n"
   ]
  },
  {
   "cell_type": "markdown",
   "id": "10733c3c",
   "metadata": {},
   "source": [
    "\n",
    "## 5:49 Heartbeat ❤️\n",
    "`RunService.Heartbeat` fires **after the physics simulation** each frame.  \n",
    "Best for *post-physics updates*, like adjusting positions or effects.\n",
    "\n",
    "```lua\n",
    "local connection = RunService.Heartbeat:Connect(function(deltaTime)\n",
    "    print(\"Frame took\", deltaTime, \"seconds\")\n",
    "end)\n",
    "```\n"
   ]
  },
  {
   "cell_type": "markdown",
   "id": "709537ba",
   "metadata": {},
   "source": [
    "\n",
    "## 10:02 Why not use a while loop? 🤔\n",
    "A naive `while true do` loop will **hog resources** and doesn't sync with Roblox’s frame rate.  \n",
    "It can cause performance issues.\n",
    "\n",
    "Instead: use `RunService` events — they automatically sync with Roblox’s internal clock.\n"
   ]
  },
  {
   "cell_type": "markdown",
   "id": "51114e39",
   "metadata": {},
   "source": [
    "\n",
    "## 12:06 Use Temporary Connections ⏳\n",
    "When you connect to an event like `Heartbeat`, **disconnect it when not needed**:\n",
    "\n",
    "```lua\n",
    "local connection\n",
    "connection = RunService.Heartbeat:Connect(function(dt)\n",
    "    -- Do something\n",
    "    if done then\n",
    "        connection:Disconnect()\n",
    "    end\n",
    "end)\n",
    "```\n"
   ]
  },
  {
   "cell_type": "markdown",
   "id": "d5a6adcc",
   "metadata": {},
   "source": [
    "\n",
    "## 13:39 What is Delta Time? ⏱\n",
    "`deltaTime` = **time between the last frame and the current frame**.  \n",
    "Use it for *frame-rate independent movement*:\n",
    "\n",
    "```lua\n",
    "part.Position = part.Position + Vector3.new(1, 0, 0) * deltaTime\n",
    "```\n"
   ]
  },
  {
   "cell_type": "markdown",
   "id": "bb1811b4",
   "metadata": {},
   "source": [
    "\n",
    "## 16:32 Stepped 🚶\n",
    "Fires **before physics simulation** each frame.  \n",
    "Good for applying forces or adjusting before physics runs.\n",
    "\n",
    "```lua\n",
    "RunService.Stepped:Connect(function(time, deltaTime)\n",
    "    print(\"Before physics:\", deltaTime)\n",
    "end)\n",
    "```\n"
   ]
  },
  {
   "cell_type": "markdown",
   "id": "a0701c21",
   "metadata": {},
   "source": [
    "\n",
    "## 20:48 RenderStepped 🎨\n",
    "Fires **before rendering** (client-only).  \n",
    "Use for smooth camera updates or UI changes.\n",
    "\n",
    "```lua\n",
    "RunService.RenderStepped:Connect(function(dt)\n",
    "    camera.CFrame = CFrame.new(Vector3.new(0, 10, 0))\n",
    "end)\n",
    "```\n"
   ]
  },
  {
   "cell_type": "markdown",
   "id": "960cd691",
   "metadata": {},
   "source": [
    "\n",
    "## 24:46 Script Context 🎭\n",
    "You can check where your script is running:\n",
    "\n",
    "```lua\n",
    "if RunService:IsStudio() then\n",
    "    print(\"Running in Studio\")\n",
    "end\n",
    "\n",
    "if RunService:IsServer() then\n",
    "    print(\"Server side\")\n",
    "elseif RunService:IsClient() then\n",
    "    print(\"Client side\")\n",
    "end\n",
    "```\n"
   ]
  },
  {
   "cell_type": "markdown",
   "id": "16efb0d7",
   "metadata": {},
   "source": [
    "\n",
    "## 📜 RunService Methods & Syntax Table\n",
    "\n",
    "| Method | Description | Context |\n",
    "|--------|-------------|---------|\n",
    "| Heartbeat | Fires after physics simulation each frame | Both |\n",
    "| Stepped | Fires before physics each frame | Both |\n",
    "| RenderStepped | Fires before render step | Client |\n",
    "| IsStudio() | Returns true if running in Studio | Both |\n",
    "| IsServer() | Returns true if on the server | Both |\n",
    "| IsClient() | Returns true if on the client | Both |\n",
    "| BindToRenderStep(name, priority, function) | Runs a function every render step | Client |\n",
    "| UnbindFromRenderStep(name) | Stops bound render step function | Client |\n"
   ]
  },
  {
   "cell_type": "markdown",
   "id": "cc9c437b",
   "metadata": {},
   "source": [
    "\n",
    "## 🎯 Mini-Project: Smooth Hovering Platform\n",
    "We’ll make a platform that smoothly hovers up and down.\n",
    "\n",
    "```lua\n",
    "local RunService = game:GetService(\"RunService\")\n",
    "local platform = workspace.HoverPlatform\n",
    "\n",
    "local hoverHeight = 5\n",
    "local speed = 2\n",
    "local baseY = platform.Position.Y\n",
    "\n",
    "RunService.Heartbeat:Connect(function(dt)\n",
    "    local newY = baseY + math.sin(tick() * speed) * hoverHeight\n",
    "    platform.Position = Vector3.new(platform.Position.X, newY, platform.Position.Z)\n",
    "end)\n",
    "```\n",
    "\n",
    "**Real Game Uses:**\n",
    "- Moving platforms in obbies\n",
    "- Hovering power-ups\n",
    "- Animated props\n"
   ]
  }
 ],
 "metadata": {},
 "nbformat": 4,
 "nbformat_minor": 5
}
