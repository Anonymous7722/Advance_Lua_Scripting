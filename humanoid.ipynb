{
 "cells": [
  {
   "cell_type": "markdown",
   "metadata": {},
   "source": [
    "# Roblox Humanoid Masterclass\n",
    "\n",
    "Welcome to the **Humanoid Masterclass** in Roblox Studio.  \n",
    "We'll go step-by-step with timestamps, covering everything from basic properties to an advanced double jump system, ending with a real mini-project.\n",
    "\n",
    "---"
   ]
  },
  {
   "cell_type": "markdown",
   "metadata": {},
   "source": [
    "## 00:00 – Intro\n",
    "\n",
    "Humanoid is **the brain + heart + lungs** of any Roblox character.\n",
    "Without it, a character is just a pile of parts with no movement, health, or animation control.\n",
    "\n",
    "It’s what:\n",
    "- Makes characters walk & jump\n",
    "- Handles damage & death\n",
    "- Keeps track of states (running, sitting, swimming)\n",
    "- Plays animations\n",
    "- Responds to game events like traps, boosts, or ragdolls"
   ]
  },
  {
   "cell_type": "markdown",
   "metadata": {},
   "source": [
    "## 00:52 – CONCEPTION\n",
    "\n",
    "**Where it lives:**\n",
    "- Humanoid is a child of the Character model (under the Player in `workspace`).\n",
    "- Works with the `Animator` to play animations and with physics for movement.\n",
    "\n",
    "**Why it's important:**\n",
    "- Automatically binds user input → movement.\n",
    "- Exposes **properties**, **methods**, and **events** to control everything.\n",
    "\n",
    "```lua\n",
    "local humanoid = game.Players.LocalPlayer.Character:WaitForChild(\"Humanoid\")\n",
    "print(humanoid) -- Roblox's built-in movement brain\n",
    "```"
   ]
  },
  {
   "cell_type": "markdown",
   "metadata": {},
   "source": [
    "## 03:09 – Basic Properties\n",
    "\n",
    "### 1. WalkSpeed\n",
    "```lua\n",
    "humanoid.WalkSpeed = 20 -- Default is 16\n",
    "```\n",
    "\n",
    "### 2. JumpPower\n",
    "```lua\n",
    "humanoid.JumpPower = 80 -- Default is 50\n",
    "```\n",
    "\n",
    "### 3. Health & MaxHealth\n",
    "```lua\n",
    "humanoid.Health = 50\n",
    "humanoid.MaxHealth = 150\n",
    "```\n",
    "\n",
    "### 4. Name Display\n",
    "```lua\n",
    "humanoid.NameDisplayDistance = 0 -- Hide name\n",
    "```\n",
    "\n",
    "💡 **Tip:** Combine WalkSpeed & JumpPower tweaks with effects for boosts or low gravity zones."
   ]
  },
  {
   "cell_type": "markdown",
   "metadata": {},
   "source": [
    "## 09:02 – Humanoid States\n",
    "\n",
    "States tell us what the humanoid is **currently doing**.\n",
    "\n",
    "Common ones:\n",
    "- Running\n",
    "- Jumping\n",
    "- Freefall\n",
    "- Sitting\n",
    "- Swimming\n",
    "- Dead\n",
    "\n",
    "```lua\n",
    "humanoid.StateChanged:Connect(function(old, new)\n",
    "    print(\"From:\", old.Name, \"To:\", new.Name)\n",
    "    if new == Enum.HumanoidStateType.Swimming then\n",
    "        print(\"Splish Splash!\")\n",
    "    end\n",
    "end)\n",
    "```"
   ]
  },
  {
   "cell_type": "markdown",
   "metadata": {},
   "source": [
    "## 12:53 – Useful Methods\n",
    "\n",
    "| Method | Syntax | Description |\n",
    "|--------|--------|-------------|\n",
    "| MoveTo | `humanoid:MoveTo(Vector3.new(0,5,0))` | Moves humanoid |\n",
    "| TakeDamage | `humanoid:TakeDamage(10)` | Reduces health |\n",
    "| Sit | `humanoid.Sit = true` | Makes humanoid sit |\n",
    "| ChangeState | `humanoid:ChangeState(Enum.HumanoidStateType.Jumping)` | Forces a state |\n",
    "| LoadAnimation | `humanoid:LoadAnimation(animTrack)` | Plays animation |\n",
    "| Move | `humanoid:Move(Vector3.new(1,0,0), true)` | Moves without pathfinding |"
   ]
  },
  {
   "cell_type": "markdown",
   "metadata": {},
   "source": [
    "## 19:33 – Double Jump System\n",
    "\n",
    "```lua\n",
    "local Players = game:GetService(\"Players\")\n",
    "\n",
    "Players.PlayerAdded:Connect(function(player)\n",
    "    player.CharacterAdded:Connect(function(char)\n",
    "        local humanoid = char:WaitForChild(\"Humanoid\")\n",
    "        local hrp = char:WaitForChild(\"HumanoidRootPart\")\n",
    "\n",
    "        local jumps = 0\n",
    "        local maxJumps = 2\n",
    "\n",
    "        humanoid.StateChanged:Connect(function(_, new)\n",
    "            if new == Enum.HumanoidStateType.Landed then\n",
    "                jumps = 0\n",
    "            elseif new == Enum.HumanoidStateType.Jumping then\n",
    "                jumps += 1\n",
    "                if jumps == 2 then\n",
    "                    hrp.Velocity = Vector3.new(hrp.Velocity.X, humanoid.JumpPower, hrp.Velocity.Z)\n",
    "                end\n",
    "            end\n",
    "        end)\n",
    "    end)\n",
    "end)\n",
    "```"
   ]
  },
  {
   "cell_type": "markdown",
   "metadata": {},
   "source": [
    "## Bonus Tips & Tricks\n",
    "\n",
    "- Use `TakeDamage` for traps or enemies.\n",
    "- Combine `ChangeState` with animations for effects.\n",
    "- Temporarily modify WalkSpeed for boosts.\n",
    "- Detect `Died` for respawn logic.\n",
    "\n",
    "```lua\n",
    "humanoid.Died:Connect(function()\n",
    "    print(\"Player has died!\")\n",
    "end)\n",
    "```"
   ]
  },
  {
   "cell_type": "markdown",
   "metadata": {},
   "source": [
    "## All Methods & Properties Table\n",
    "\n",
    "| Feature | Syntax Example |\n",
    "|---------|----------------|\n",
    "| WalkSpeed | `humanoid.WalkSpeed = 25` |\n",
    "| JumpPower | `humanoid.JumpPower = 80` |\n",
    "| Health | `humanoid.Health = 50` |\n",
    "| MaxHealth | `humanoid.MaxHealth = 150` |\n",
    "| Sit | `humanoid.Sit = true` |\n",
    "| MoveTo | `humanoid:MoveTo(Vector3.new(0,0,0))` |\n",
    "| TakeDamage | `humanoid:TakeDamage(10)` |\n",
    "| LoadAnimation | `humanoid:LoadAnimation(animTrack)` |\n",
    "| ChangeState | `humanoid:ChangeState(Enum.HumanoidStateType.Jumping)` |\n",
    "| Move | `humanoid:Move(Vector3.new(1,0,0), true)` |"
   ]
  },
  {
   "cell_type": "markdown",
   "metadata": {},
   "source": [
    "## Mini-Project – Lava Run\n",
    "\n",
    "```lua\n",
    "local lava = workspace:WaitForChild(\"Lava\")\n",
    "\n",
    "lava.Touched:Connect(function(hit)\n",
    "    local humanoid = hit.Parent:FindFirstChild(\"Humanoid\")\n",
    "    if humanoid then\n",
    "        humanoid:TakeDamage(5)\n",
    "    end\n",
    "end)\n",
    "```\n",
    "\n",
    "**Extra:**\n",
    "- Add coins for speed boosts  \n",
    "- Enable double jump in zones  \n",
    "- Add checkpoints for respawns"
   ]
  }
 ],
 "metadata": {
  "kernelspec": {
   "display_name": "Lua",
   "language": "lua",
   "name": "lua"
  },
  "language_info": {
   "file_extension": ".lua",
   "mimetype": "text/x-lua",
   "name": "lua"
  }
 },
 "nbformat": 4,
 "nbformat_minor": 5
}
