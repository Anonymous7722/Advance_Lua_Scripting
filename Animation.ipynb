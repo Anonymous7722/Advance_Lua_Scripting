{
 "cells": [
  {
   "cell_type": "markdown",
   "metadata": {},
   "source": [
    "# Roblox Studio Animation Tutorial — Advanced Scripter Edition (with Dopamine Doses)\n",
    "\n",
    "## 0:00 Intro\n",
    "Welcome to the **Animation Mastery in Roblox Studio** crash course! 🚀 \n",
    "We’ll explore animations from the ground up: rigging, the Animation Editor, controlling animations via code, priorities, events, and more — with plenty of dopamine boosts along the way.\n",
    "\n",
    "---"
   ]
  },
  {
   "cell_type": "markdown",
   "metadata": {},
   "source": [
    "## 0:26 CONCEPTION\n",
    "**What are Animations in Roblox?**\n",
    "- Animations are pre-defined sequences of motion applied to rigs (characters, NPCs, creatures).\n",
    "- They’re built using **Keyframes**.\n",
    "- Controlled by scripts via **Animation** and **AnimationTrack** objects.\n",
    "\n",
    "**Core Flow:**\n",
    "1. Create or import a rig.\n",
    "2. Use the Animation Editor to define motion.\n",
    "3. Export and load via scripts.\n",
    "4. Control playback using Roblox's animation API.\n",
    "\n",
    "💡 *Think of animations like musical scores for your characters.*"
   ]
  },
  {
   "cell_type": "markdown",
   "metadata": {},
   "source": [
    "## 1:30 Adding a Rig\n",
    "- **Rigs** are models with a Humanoid and a Motor6D joint structure.\n",
    "- Add via **Plugins → Build Rig**.\n",
    "- Common types:\n",
    "  - R15 (15 body parts)\n",
    "  - R6 (6 body parts)\n",
    "  - Custom rigs for creatures or machines.\n",
    "\n",
    "⚡ **Pro tip:** Always name joints logically for easier animation control."
   ]
  },
  {
   "cell_type": "markdown",
   "metadata": {},
   "source": [
    "## 3:45 Animation Editor Overview / Create Animation\n",
    "Steps:\n",
    "1. Select your rig.\n",
    "2. Open **Animation Editor**.\n",
    "3. Move joints, set keyframes.\n",
    "4. Preview and refine.\n",
    "5. Export → Publish to Roblox → Copy Asset ID.\n",
    "\n",
    "🎯 **Dopamine Dose:** Every time you see your rig moving as intended — fist pump!"
   ]
  },
  {
   "cell_type": "markdown",
   "metadata": {},
   "source": [
    "## 9:36 Animation Instance\n",
    "**In code:**\n",
    "```lua\n",
    "local animation = Instance.new(\"Animation\")\n",
    "animation.AnimationId = \"rbxassetid://YOUR_ANIMATION_ID\"\n",
    "```\n",
    "- Represents the data of your animation.\n",
    "- Needs to be loaded into an Animator.\n",
    "\n",
    "💡 *Think of this as the USB stick holding your dance routine.*"
   ]
  },
  {
   "cell_type": "markdown",
   "metadata": {},
   "source": [
    "## 12:25 Animation Track\n",
    "**In code:**\n",
    "```lua\n",
    "local animator = humanoid:FindFirstChildOfClass(\"Animator\")\n",
    "local track = animator:LoadAnimation(animation)\n",
    "```\n",
    "- The **AnimationTrack** is what actually plays.\n",
    "- Has methods like `Play()`, `Stop()`, and properties like `TimePosition`.\n",
    "\n",
    "🎮 **Control is power** — you can pause, loop, change speed."
   ]
  },
  {
   "cell_type": "markdown",
   "metadata": {},
   "source": [
    "## 15:04 Animation Priority\n",
    "- Determines which animation overrides others.\n",
    "- Levels:\n",
    "  - `Core`\n",
    "  - `Idle`\n",
    "  - `Movement`\n",
    "  - `Action`\n",
    "- Higher priority replaces lower ones.\n",
    "\n",
    "**In code:**\n",
    "```lua\n",
    "track.Priority = Enum.AnimationPriority.Action\n",
    "```"
   ]
  },
  {
   "cell_type": "markdown",
   "metadata": {},
   "source": [
    "## 19:06 AdjustSpeed()\n",
    "**In code:**\n",
    "```lua\n",
    "track:AdjustSpeed(2) -- Plays at double speed\n",
    "```\n",
    "- Useful for slow-mo or speed boosts.\n",
    "\n",
    "💡 Combine with game power-ups for instant wow-factor."
   ]
  },
  {
   "cell_type": "markdown",
   "metadata": {},
   "source": [
    "## 22:03 Animation Events [GetMarkerReachedSignal()]\n",
    "- Add markers in the Animation Editor.\n",
    "- Detect them in code:\n",
    "```lua\n",
    "track:GetMarkerReachedSignal(\"MarkerName\"):Connect(function(param)\n",
    "    print(\"Marker hit with param:\", param)\n",
    "end)\n",
    "```\n",
    "- Perfect for syncing sounds, particles, or gameplay triggers.\n",
    "\n",
    "🎯 Marker = In-game cue for epicness."
   ]
  },
  {
   "cell_type": "markdown",
   "metadata": {},
   "source": [
    "## 25:45 Common Animation Issues\n",
    "- **Animation not playing:** Check Animator exists.\n",
    "- **Weird movement:** Match rig type with animation type.\n",
    "- **Conflicting animations:** Adjust priorities.\n",
    "\n",
    "---\n",
    "### Bonus Tips and Tricks\n",
    "- Preload animations for instant playback.\n",
    "- Use looping wisely — endless spins may cause dizziness.\n",
    "- Chain animations for cinematic effects.\n",
    "\n",
    "### Methods Table\n",
    "| Method / Property | Syntax Example | Description |\n",
    "|-------------------|---------------|-------------|\n",
    "| `Play()` | `track:Play()` | Starts animation |\n",
    "| `Stop()` | `track:Stop()` | Stops animation |\n",
    "| `AdjustSpeed()` | `track:AdjustSpeed(1.5)` | Change playback speed |\n",
    "| `GetMarkerReachedSignal()` | `track:GetMarkerReachedSignal(\"Hit\")` | Detects animation marker events |\n",
    "| `Priority` | `track.Priority = Enum.AnimationPriority.Action` | Sets override level |"
   ]
  },
  {
   "cell_type": "markdown",
   "metadata": {},
   "source": [
    "## Mini Project — NPC Dance Trigger\n",
    "**Goal:** When player touches a part, an NPC dances.\n",
    "```lua\n",
    "local npc = workspace.NPC\n",
    "local humanoid = npc:FindFirstChildOfClass(\"Humanoid\")\n",
    "local animator = humanoid:FindFirstChildOfClass(\"Animator\")\n",
    "local anim = Instance.new(\"Animation\")\n",
    "anim.AnimationId = \"rbxassetid://YOUR_DANCE_ID\"\n",
    "local track = animator:LoadAnimation(anim)\n",
    "\n",
    "workspace.DanceTrigger.Touched:Connect(function(hit)\n",
    "    local player = game.Players:GetPlayerFromCharacter(hit.Parent)\n",
    "    if player then\n",
    "        track:Play()\n",
    "    end\n",
    "end)\n",
    "```\n",
    "🎉 *Put this in a game and watch the fun!*"
   ]
  }
 ],
 "metadata": {
  "kernelspec": {
   "display_name": "Python 3",
   "language": "python",
   "name": "python3"
  },
  "language_info": {
   "name": "python",
   "version": ""
  }
 },
 "nbformat": 4,
 "nbformat_minor": 2
}
