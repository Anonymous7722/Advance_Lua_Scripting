{
  "cells": [
    {
      "cell_type": "markdown",
      "metadata": {},
      "source": [
        "# Roblox Studio: Collection Tags (Advanced Guide)\n",
        "High-energy, dopamine-packed explanation of Roblox CollectionService & Tags.\n"
      ]
    },
    {
      "cell_type": "markdown",
      "metadata": {},
      "source": [
        "## **2:02 — CONCEPTION: What Are Tags in Roblox?**\n",
        "Think of **tags** as invisible sticky notes you slap on objects in your game.\n",
        "- They **don’t** change the object's name.\n",
        "- Don’t require a parent-child connection.\n",
        "- Don’t take up memory like folders.\n\n",
        "Why tags are OP:\n",
        "- One tag can be on **many objects**.\n",
        "- One object can have **many tags**.\n",
        "- Tags can be read anywhere in the code without referencing the object’s path.\n",
        "- They make scripts **dynamic** — new objects with the same tag instantly get the same behavior.\n\n",
        "💡 Example: Tag all enemies with `\"Enemy\"`, then write one script to manage them all."
      ]
    },
    {
      "cell_type": "markdown",
      "metadata": {},
      "source": [
        "## **2:55 — Tags & Tag Editor**\n",
        "Roblox has a **Tag Editor** plugin:\n",
        "1. Go to **View → Tag Editor**.\n",
        "2. Select an object, click `+`, type your tag name.\n",
        "3. That object is now tagged.\n\n",
        "⚡ **Design-time tagging** = Studio's Tag Editor.\n",
        "**Runtime tagging** = Code via CollectionService."
      ]
    },
    {
      "cell_type": "markdown",
      "metadata": {},
      "source": [
        "## **4:39 — CollectionService**\n",
        "CollectionService is the Roblox API to manage tags in code:\n",
        "```lua\n",
        "local CollectionService = game:GetService(\"CollectionService\")\n",
        "```"
      ]
    },
    {
      "cell_type": "markdown",
      "metadata": {},
      "source": [
        "## **5:15 — GetTagged()**\n",
        "```lua\n",
        "local enemies = CollectionService:GetTagged(\"Enemy\")\n",
        "for _, enemy in ipairs(enemies) do\n",
        "    print(enemy.Name)\n",
        "end\n",
        "```\n",
        "💡 Returns all objects with a specific tag, updates dynamically."
      ]
    },
    {
      "cell_type": "markdown",
      "metadata": {},
      "source": [
        "## **9:06 — GetTags() & GetAllTags()**\n",
        "```lua\n",
        "-- Get all tags on an instance\n",
        "print(CollectionService:GetTags(workspace.Enemy1)) \n",
        "-- Output: {\"Enemy\", \"Boss\"} \n\n",
        "-- Get all tags in the game\n",
        "print(CollectionService:GetAllTags()) \n",
        "-- Output: {\"Enemy\", \"Boss\", \"Interactable\"}\n",
        "```"
      ]
    },
    {
      "cell_type": "markdown",
      "metadata": {},
      "source": [
        "## **13:25 — AddTag() & RemoveTag()**\n",
        "```lua\n",
        "CollectionService:AddTag(workspace.Door, \"Locked\")\n",
        "CollectionService:RemoveTag(workspace.Door, \"Locked\")\n",
        "```\n",
        "💡 Great for changing game states dynamically."
      ]
    },
    {
      "cell_type": "markdown",
      "metadata": {},
      "source": [
        "## **16:45 — HasTag()**\n",
        "```lua\n",
        "if CollectionService:HasTag(workspace.Enemy1, \"Boss\") then\n",
        "    print(\"This is a boss enemy!\")\n",
        "end\n",
        "```"
      ]
    },
    {
      "cell_type": "markdown",
      "metadata": {},
      "source": [
        "## **18:05 — Added & Removed Events**\n",
        "```lua\n",
        "CollectionService:GetInstanceAddedSignal(\"Enemy\"):Connect(function(enemy)\n",
        "    print(\"Enemy joined the game:\", enemy.Name)\n",
        "end)\n\n",
        "CollectionService:GetInstanceRemovedSignal(\"Enemy\"):Connect(function(enemy)\n",
        "    print(\"Enemy removed:\", enemy.Name)\n",
        "end)\n",
        "```\n",
        "💡 Great for spawning systems or event-driven logic."
      ]
    },
    {
      "cell_type": "markdown",
      "metadata": {},
      "source": [
        "## **20:33 — Example: Campfire Damage**\n",
        "```lua\n",
        "local CollectionService = game:GetService(\"CollectionService\")\n\n",
        "local function setupCampfire(campfire)\n",
        "    campfire.Touched:Connect(function(hit)\n",
        "        local player = game.Players:GetPlayerFromCharacter(hit.Parent)\n",
        "        if player then\n",
        "            player:Kick(\"Ouch, you touched a hot campfire!\")\n",
        "        end\n",
        "    end)\n",
        "end\n\n",
        "for _, campfire in ipairs(CollectionService:GetTagged(\"Campfire\")) do\n",
        "    setupCampfire(campfire)\n",
        "end\n\n",
        "CollectionService:GetInstanceAddedSignal(\"Campfire\"):Connect(setupCampfire)\n",
        "```"
      ]
    },
    {
      "cell_type": "markdown",
      "metadata": {},
      "source": [
        "## **Mini Project — Treasure Hunt System**\n",
        "```lua\n",
        "local CollectionService = game:GetService(\"CollectionService\")\n\n",
        "local function setupChest(chest)\n",
        "    local prompt = chest:FindFirstChildOfClass(\"ProximityPrompt\")\n",
        "    if not prompt then return end\n\n",
        "    prompt.Triggered:Connect(function(player)\n",
        "        local leaderstats = player:FindFirstChild(\"leaderstats\")\n",
        "        if leaderstats then\n",
        "            leaderstats.Gold.Value += 10\n",
        "            print(player.Name .. \" got 10 gold!\")\n",
        "        end\n",
        "        chest:Destroy()\n",
        "    end)\n",
        "end\n\n",
        "for _, chest in ipairs(CollectionService:GetTagged(\"TreasureChest\")) do\n",
        "    setupChest(chest)\n",
        "end\n\n",
        "CollectionService:GetInstanceAddedSignal(\"TreasureChest\"):Connect(setupChest)\n",
        "```\n",
        "💡 Add more chests anytime — they auto-work!"
      ]
    }
  ],
  "metadata": {
    "kernelspec": {
      "display_name": "Python 3",
      "language": "python",
      "name": "python3"
    },
    "language_info": {
      "name": "python",
      "version": "3.x"
    }
  },
  "nbformat": 4,
  "nbformat_minor": 5
}