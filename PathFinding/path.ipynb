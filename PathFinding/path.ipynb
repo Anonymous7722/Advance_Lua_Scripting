{
 "cells": [
  {
   "cell_type": "markdown",
   "id": "f01996f0",
   "metadata": {},
   "source": [
    "## 🧠 1. CONCEPT: What is Pathfinding?\n",
    "\n",
    "Pathfinding in Roblox is like giving NPCs a brain GPS 🛰️.\n",
    "Using the PathfindingService, they calculate the safest, shortest route to reach a target — while avoiding lava pits, jumping over obstacles, or even climbing walls."
   ]
  },
  {
   "cell_type": "markdown",
   "metadata": {},
   "source": [
    "## 🧭 2. CALCULATING PATHS – CreatePath() & ComputeAsync()\n",
    "\n",
    "✅ Step 1: Create the path"
   ]
  },
  {
   "cell_type": "code",
   "execution_count": null,
   "id": "45f3df03",
   "metadata": {
    "vscode": {
     "languageId": "plaintext"
    }
   },
   "outputs": [],
   "source": [
    "local pathfindingService = game:GetService(\"PathfindingService\")\n",
    "\n",
    "local path = pathfindingService:CreatePath({\n",
    "\tAgentRadius = 2,\n",
    "\tAgentHeight = 5,\n",
    "\tAgentCanJump = true,\n",
    "\tAgentJumpHeight = 10,\n",
    "\tAgentCanClimb = true,\n",
    "\tAgentMaxSlope = 45\n",
    "})"
   ]
  },
  {
   "cell_type": "markdown",
   "metadata": {},
   "source": [
    "✅ Step 2: Compute the path to destination"
   ]
  },
  {
   "cell_type": "code",
   "execution_count": null,
   "id": "a3f5cffb",
   "metadata": {
    "vscode": {
     "languageId": "plaintext"
    }
   },
   "outputs": [],
   "source": [
    "path:ComputeAsync(npc.Position, target.Position)"
   ]
  },
  {
   "cell_type": "markdown",
   "id": "855d9e05",
   "metadata": {},
   "source": [
    "✅ Step 3: Check success and get waypoints"
   ]
  },
  {
   "cell_type": "code",
   "execution_count": null,
   "id": "894fc57a",
   "metadata": {
    "vscode": {
     "languageId": "plaintext"
    }
   },
   "outputs": [],
   "source": [
    "if path.Status == Enum.PathStatus.Success then\n",
    "\tlocal waypoints = path:GetWaypoints()\n",
    "end"
   ]
  },
  {
   "cell_type": "markdown",
   "id": "c857e8a4",
   "metadata": {},
   "source": [
    "## 🚶‍♂️ 3. MOVE NPC ALONG PATH (+ JUMPING & CLIMBING)\n",
    "\n",
    "🧠 Full Moving Script Example:"
   ]
  },
  {
   "cell_type": "code",
   "execution_count": null,
   "id": "21f6033e",
   "metadata": {
    "vscode": {
     "languageId": "plaintext"
    }
   },
   "outputs": [],
   "source": [
    "local npc = script.Parent\n",
    "local humanoid = npc:WaitForChild(\"Humanoid\")\n",
    "local pathfindingService = game:GetService(\"PathfindingService\")\n",
    "local target = workspace.TargetPart\n",
    "\n",
    "local path = pathfindingService:CreatePath()\n",
    "path:ComputeAsync(npc.Position, target.Position)\n",
    "\n",
    "if path.Status == Enum.PathStatus.Success then\n",
    "\tlocal waypoints = path:GetWaypoints()\n",
    "\tfor _, waypoint in ipairs(waypoints) do\n",
    "\t\tif waypoint.Action == Enum.PathWaypointAction.Jump then\n",
    "\t\t\thumanoid:ChangeState(Enum.HumanoidStateType.Jumping)\n",
    "\t\tend\n",
    "\t\thumanoid:MoveTo(waypoint.Position)\n",
    "\t\thumanoid.MoveToFinished:Wait()\n",
    "\tend\n",
    "else\n",
    "\twarn(\"❌ Path not found\")\n",
    "end\n"
   ]
  },
  {
   "cell_type": "markdown",
   "id": "65d3c754",
   "metadata": {},
   "source": [
    "## 🧩 4. MODIFIER #1 – Setting Material Costs"
   ]
  },
  {
   "cell_type": "code",
   "execution_count": null,
   "id": "89aeeebf",
   "metadata": {
    "vscode": {
     "languageId": "plaintext"
    }
   },
   "outputs": [],
   "source": [
    "local path = pathfindingService:CreatePath({\n",
    "\tCosts = {\n",
    "\t\tWater = math.huge,  -- Avoid completely\n",
    "\t\tPlastic = 10,        -- Less preferred\n",
    "\t\tGrass = 1            -- Preferred\n",
    "\t}\n",
    "})"
   ]
  },
  {
   "cell_type": "markdown",
   "id": "58486403",
   "metadata": {},
   "source": [
    "## 🚧 5. MODIFIER #2 – Defining Unwalkable Regions\n",
    "\n",
    "Make regions where the NPC should never go.\n",
    "\n",
    "    🛑 Use PathfindingModifier:\n",
    "\n",
    "    Add PathfindingModifier object to any part in the map.\n",
    "\n",
    "    Set PassThrough = false\n",
    "    This marks that area as off-limits for pathfinding."
   ]
  },
  {
   "cell_type": "markdown",
   "id": "43ddb934",
   "metadata": {},
   "source": [
    "## 🎯 6. MODIFIER #3 – Choosing Specific Paths (Preferred routes)\n",
    "\n",
    "Use PassThrough = true and lower material cost to encourage specific path directions.\n",
    "\n",
    "Example: Make “Safe Path” parts that the NPC will prefer."
   ]
  },
  {
   "cell_type": "markdown",
   "id": "09a47629",
   "metadata": {},
   "source": [
    "## ⚡ 7. PRO TIPS for Pathfinding Ninjas\n",
    "\n",
    "| 🧠 Tip                       | 💡 Why it’s awesome                               |\n",
    "| ---------------------------- | ------------------------------------------------- |\n",
    "| Cache the last computed path | Save performance and prevent constant recompute   |\n",
    "| Use raycasting with pathing  | Avoid edge cases like flying/falling off          |\n",
    "| Recalculate on fail/detour   | Helps if player moves or something blocks the way |\n",
    "| Keep target on ground        | Avoid computing paths to unreachable high points  |\n"
   ]
  },
  {
   "cell_type": "markdown",
   "id": "d35cfe6d",
   "metadata": {},
   "source": [
    "## 🧠 8. ADVANCED TECHNIQUES 💎\n",
    "\n",
    "✅ Dynamic Re-pathing (every few seconds):\n",
    "\n",
    "✅ Avoiding Other NPCs:\n",
    "\n",
    "Use invisible collision parts (PathfindingModifiers) dynamically placed where NPCs stand."
   ]
  },
  {
   "cell_type": "code",
   "execution_count": null,
   "id": "3c117564",
   "metadata": {
    "vscode": {
     "languageId": "plaintext"
    }
   },
   "outputs": [],
   "source": [
    "while true do\n",
    "\ttask.wait(2)\n",
    "\tpath:ComputeAsync(npc.Position, player.Position)\n",
    "end"
   ]
  },
  {
   "cell_type": "markdown",
   "id": "31a2d498",
   "metadata": {},
   "source": [
    "## 🧍‍♂️ 9. NPC FOLLOWING PLAYER – COMPLETE SCRIPT\n",
    "\n",
    "📍 ServerScript inside NPC model:"
   ]
  },
  {
   "cell_type": "code",
   "execution_count": null,
   "id": "cb7e4a0d",
   "metadata": {
    "vscode": {
     "languageId": "plaintext"
    }
   },
   "outputs": [],
   "source": [
    "local npc = script.Parent\n",
    "local humanoid = npc:WaitForChild(\"Humanoid\")\n",
    "local pathfindingService = game:GetService(\"PathfindingService\")\n",
    "local runService = game:GetService(\"RunService\")\n",
    "local targetPlayer = game.Players:GetPlayers()[1] -- Follows first player\n",
    "\n",
    "function followPlayer()\n",
    "\twhile targetPlayer and targetPlayer.Character do\n",
    "\t\tlocal targetHRP = targetPlayer.Character:WaitForChild(\"HumanoidRootPart\")\n",
    "\n",
    "\t\tlocal path = pathfindingService:CreatePath()\n",
    "\t\tpath:ComputeAsync(npc.Position, targetHRP.Position)\n",
    "\n",
    "\t\tif path.Status == Enum.PathStatus.Success then\n",
    "\t\t\tfor _, waypoint in pairs(path:GetWaypoints()) do\n",
    "\t\t\t\tif waypoint.Action == Enum.PathWaypointAction.Jump then\n",
    "\t\t\t\t\thumanoid:ChangeState(Enum.HumanoidStateType.Jumping)\n",
    "\t\t\t\tend\n",
    "\t\t\t\thumanoid:MoveTo(waypoint.Position)\n",
    "\t\t\t\thumanoid.MoveToFinished:Wait()\n",
    "\t\t\tend\n",
    "\t\tend\n",
    "\n",
    "\t\ttask.wait(1) -- Re-path every second\n",
    "\tend\n",
    "end\n",
    "\n",
    "followPlayer()\n"
   ]
  },
  {
   "cell_type": "markdown",
   "id": "4ca20654",
   "metadata": {},
   "source": [
    "## 🔥 FULL NPC FOLLOWING + DESPAWN + RANGE LOGIC SCRIPT:\n",
    "\n",
    "    👀 Detect players nearby (50 studs)\n",
    "\n",
    "    🏃‍♂️ Chase them until they run too far (100 studs)\n",
    "\n",
    "    💀 Despawn if they stray too far from home\n",
    "\n",
    "    🛑 Stop chasing if players escape detection radius"
   ]
  },
  {
   "cell_type": "code",
   "execution_count": null,
   "id": "fd0ccaa7",
   "metadata": {
    "vscode": {
     "languageId": "plaintext"
    }
   },
   "outputs": [],
   "source": [
    "local npc = script.Parent\n",
    "local humanoid = npc:WaitForChild(\"Humanoid\")\n",
    "local pathfindingService = game:GetService(\"PathfindingService\")\n",
    "local players = game:GetService(\"Players\")\n",
    "local runService = game:GetService(\"RunService\")\n",
    "local serverStorage = game:GetService(\"ServerStorage\")\n",
    "\n",
    "local detectionRadius = 50\n",
    "local maxChaseDistance = 100\n",
    "local followTarget = nil\n",
    "local npcHomePosition = npc.HumanoidRootPart.Position\n",
    "local isFollowing = false\n",
    "\n",
    "-- Create a clone backup to respawn\n",
    "local npcClone = npc:Clone()\n",
    "npcClone.Parent = nil\n",
    "\n",
    "-- Function to find closest player within range\n",
    "local function getNearestPlayer()\n",
    "\tlocal closest = nil\n",
    "\tlocal closestDist = detectionRadius\n",
    "\n",
    "\tfor _, player in ipairs(players:GetPlayers()) do\n",
    "\t\tif player.Character and player.Character:FindFirstChild(\"HumanoidRootPart\") then\n",
    "\t\t\tlocal dist = (npc.HumanoidRootPart.Position - player.Character.HumanoidRootPart.Position).Magnitude\n",
    "\t\t\tif dist <= closestDist then\n",
    "\t\t\t\tclosestDist = dist\n",
    "\t\t\t\tclosest = player\n",
    "\t\t\tend\n",
    "\t\tend\n",
    "\tend\n",
    "\n",
    "\treturn closest\n",
    "end\n",
    "\n",
    "-- Follow the target player using Pathfinding\n",
    "local function followPlayer(player)\n",
    "\tif not player.Character then return end\n",
    "\tlocal hrp = player.Character:FindFirstChild(\"HumanoidRootPart\")\n",
    "\tif not hrp then return end\n",
    "\n",
    "\tlocal path = pathfindingService:CreatePath({\n",
    "\t\tAgentRadius = 2,\n",
    "\t\tAgentHeight = 5,\n",
    "\t\tAgentCanJump = true,\n",
    "\t\tAgentJumpHeight = 10,\n",
    "\t\tAgentCanClimb = true,\n",
    "\t})\n",
    "\n",
    "\tpath:ComputeAsync(npc.HumanoidRootPart.Position, hrp.Position)\n",
    "\n",
    "\tif path.Status == Enum.PathStatus.Success then\n",
    "\t\tfor _, waypoint in pairs(path:GetWaypoints()) do\n",
    "\t\t\tif not followTarget then return end -- Exit if follow canceled\n",
    "\t\t\tif waypoint.Action == Enum.PathWaypointAction.Jump then\n",
    "\t\t\t\thumanoid:ChangeState(Enum.HumanoidStateType.Jumping)\n",
    "\t\t\tend\n",
    "\t\t\thumanoid:MoveTo(waypoint.Position)\n",
    "\t\t\thumanoid.MoveToFinished:Wait()\n",
    "\t\tend\n",
    "\tend\n",
    "end\n",
    "\n",
    "-- Main loop\n",
    "runService.Heartbeat:Connect(function()\n",
    "\tif not followTarget then\n",
    "\t\tlocal found = getNearestPlayer()\n",
    "\t\tif found then\n",
    "\t\t\tfollowTarget = found\n",
    "\t\t\tisFollowing = true\n",
    "\t\tend\n",
    "\telse\n",
    "\t\tif followTarget.Character and followTarget.Character:FindFirstChild(\"HumanoidRootPart\") then\n",
    "\t\t\tlocal playerDist = (npc.HumanoidRootPart.Position - followTarget.Character.HumanoidRootPart.Position).Magnitude\n",
    "\t\t\tlocal homeDist = (npc.HumanoidRootPart.Position - npcHomePosition).Magnitude\n",
    "\n",
    "\t\t\t-- Stop if player goes out of 50\n",
    "\t\t\tif playerDist > detectionRadius then\n",
    "\t\t\t\tfollowTarget = nil\n",
    "\t\t\t\tisFollowing = false\n",
    "\t\t\t\treturn\n",
    "\t\t\tend\n",
    "\n",
    "\t\t\t-- Despawn if too far from home\n",
    "\t\t\tif homeDist > maxChaseDistance then\n",
    "\t\t\t\tlocal newNPC = npcClone:Clone()\n",
    "\t\t\t\tnewNPC.Parent = workspace\n",
    "\t\t\t\tnewNPC:SetPrimaryPartCFrame(CFrame.new(npcHomePosition))\n",
    "\t\t\t\tnpc:Destroy()\n",
    "\t\t\t\treturn\n",
    "\t\t\tend\n",
    "\n",
    "\t\t\t-- Continue following\n",
    "\t\t\ttask.spawn(function()\n",
    "\t\t\t\tfollowPlayer(followTarget)\n",
    "\t\t\tend)\n",
    "\t\telse\n",
    "\t\t\tfollowTarget = nil\n",
    "\t\t\tisFollowing = false\n",
    "\t\tend\n",
    "\tend\n",
    "end)\n"
   ]
  },
  {
   "cell_type": "markdown",
   "id": "83178eb0",
   "metadata": {},
   "source": []
  },
  {
   "cell_type": "markdown",
   "id": "285c2cba",
   "metadata": {},
   "source": []
  },
  {
   "cell_type": "markdown",
   "id": "c9db5237",
   "metadata": {},
   "source": []
  },
  {
   "cell_type": "markdown",
   "id": "5d1d9a66",
   "metadata": {},
   "source": []
  },
  {
   "cell_type": "markdown",
   "id": "e569d9d5",
   "metadata": {},
   "source": []
  },
  {
   "cell_type": "markdown",
   "metadata": {},
   "source": []
  },
  {
   "cell_type": "markdown",
   "metadata": {},
   "source": []
  }
 ],
 "metadata": {
  "language_info": {
   "name": "python"
  }
 },
 "nbformat": 4,
 "nbformat_minor": 5
}
