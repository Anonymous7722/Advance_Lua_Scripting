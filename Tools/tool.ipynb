{
 "cells": [
  {
   "cell_type": "markdown",
   "id": "8678bffa",
   "metadata": {},
   "source": [
    "## 🎮 What Are Tools in Roblox?\n",
    "Tools are special objects that a player can equip in their backpack. Think: swords, guns, grappling hooks, fishing rods—anything interactive!"
   ]
  },
  {
   "cell_type": "markdown",
   "id": "9f4eacd3",
   "metadata": {},
   "source": [
    "## 🧍‍♂️ Player vs Character\n",
    "\n",
    "Before we even wield a tool, we need to understand:\n",
    "\n",
    "    Player = the human behind the screen\n",
    "\n",
    "    Character = the humanoid model in the world (with arms, legs, etc.)\n",
    "\n",
    "🔥 Dopamine Tip: You control the player, the player controls the character, the tool makes the character awesome."
   ]
  },
  {
   "cell_type": "code",
   "execution_count": null,
   "id": "db5b10fb",
   "metadata": {},
   "outputs": [],
   "source": [
    "local player = game.Players.LocalPlayer\n",
    "local character = player.Character or player.CharacterAdded:Wait()"
   ]
  },
  {
   "cell_type": "markdown",
   "id": "b36eb737",
   "metadata": {},
   "source": [
    "## 🔧 Creating a Tool (Manual Mode: ON)\n",
    "\n",
    "Here's how to craft your own digital weapon!\n",
    "In Explorer:\n",
    "\n",
    "    Right-click StarterPack\n",
    "\n",
    "    Click ➕ Tool\n",
    "\n",
    "    Rename to MegaSword9000\n",
    "\n",
    "    Add a Part → name it Handle (this is mandatory)\n",
    "\n",
    "    Add a Script or LocalScript if needed\n",
    "\n",
    "Script Example:\n"
   ]
  },
  {
   "cell_type": "code",
   "execution_count": null,
   "id": "5d855180",
   "metadata": {},
   "outputs": [],
   "source": [
    "local tool = script.Parent\n",
    "\n",
    "tool.Activated:Connect(function()\n",
    "\tprint(\"Swoosh! Tool activated.\")\n",
    "end)"
   ]
  },
  {
   "cell_type": "markdown",
   "id": "c46a562d",
   "metadata": {},
   "source": [
    "## 🛠️ ToolTip & TextureId (Make it Pretty & Clear)\n",
    "\n",
    "- ToolTip = small hover text in inventory\n",
    "- TextureId = icon in hotbar"
   ]
  },
  {
   "cell_type": "code",
   "execution_count": null,
   "id": "d5f5445e",
   "metadata": {},
   "outputs": [],
   "source": [
    "tool.ToolTip = \"Click to SWING!\"\n",
    "tool.TextureId = \"rbxassetid://YOUR_IMAGE_ID\" -- Replace with a decal ID\n"
   ]
  },
  {
   "cell_type": "markdown",
   "id": "91cdac4a",
   "metadata": {},
   "source": [
    "## ✋ Handle (Without It, Your Tool’s Useless)\n",
    "\n",
    "Roblox won’t let a tool work without a Handle part. Think of it as the thing your character grabs.\n",
    "\n",
    "- Make sure the part is named exactly *Handle*\n",
    "- *Set Anchored = false* and *CanCollide = false*"
   ]
  },
  {
   "cell_type": "markdown",
   "id": "c43bb9b8",
   "metadata": {},
   "source": [
    "## 📏 Grip, Scale, and CanBeDropped\n",
    "\n",
    "Want a tiny dagger or a huge anime sword? Scale the Handle and adjust the grip!"
   ]
  },
  {
   "cell_type": "code",
   "execution_count": null,
   "id": "aa05bfd7",
   "metadata": {},
   "outputs": [],
   "source": [
    "tool.CanBeDropped = true -- Player can drop it with backspace\n",
    "tool.GripPos = Vector3.new(0, 0, 0) -- Adjust how tool is held\n",
    "tool.GripUp = Vector3.new(0, 1, 0) -- Up direction of tool in hand\n",
    "tool.GripRight = Vector3.new(1, 0, 0)"
   ]
  },
  {
   "cell_type": "markdown",
   "id": "30e9adfe",
   "metadata": {},
   "source": [
    "## ⚡ Tool Events (Your Best Friends)\n",
    "\n",
    "| Event          | Description                             |\n",
    "| -------------- | --------------------------------------- |\n",
    "| `.Activated`   | Player clicked while tool equipped      |\n",
    "| `.Equipped`    | Player equipped the tool                |\n",
    "| `.Unequipped`  | Player unequipped the tool              |\n",
    "| `.Deactivated` | Player released click (on some devices) |\n"
   ]
  },
  {
   "cell_type": "code",
   "execution_count": null,
   "id": "6f3be067",
   "metadata": {},
   "outputs": [],
   "source": [
    "tool.Equipped:Connect(function()\n",
    "\tprint(\"Equipped the power of Zeus!\")\n",
    "end)\n",
    "\n",
    "tool.Unequipped:Connect(function()\n",
    "\tprint(\"Tool put away... for now.\")\n",
    "end)"
   ]
  },
  {
   "cell_type": "markdown",
   "id": "6443e168",
   "metadata": {},
   "source": [
    "## 🤖 ManualActivationOnly & RequireHandle\n",
    "\n",
    "Use these if you want super custom control!"
   ]
  },
  {
   "cell_type": "code",
   "execution_count": null,
   "id": "3e0a5ec5",
   "metadata": {},
   "outputs": [],
   "source": [
    "tool.ManualActivationOnly = true -- Prevents auto-activation via click\n",
    "tool.RequiresHandle = true -- Forces Roblox to check for a Handle"
   ]
  },
  {
   "cell_type": "markdown",
   "id": "c7ba5ab7",
   "metadata": {},
   "source": [
    "## 🎒 StarterGear vs Backpack\n",
    "\n",
    "- StarterPack → tools go to Backpack when you spawn\n",
    "\n",
    "- When a player picks up a tool in-game, it appears in Backpack\n",
    "\n",
    "- Use StarterGear (inside the player) if you want the tool to persist across respawns\n"
   ]
  },
  {
   "cell_type": "code",
   "execution_count": null,
   "id": "703b76bb",
   "metadata": {},
   "outputs": [],
   "source": [
    "tool:Clone().Parent = player:WaitForChild(\"StarterGear\")\n",
    "tool:Clone().Parent = player:WaitForChild(\"Backpack\")"
   ]
  },
  {
   "cell_type": "markdown",
   "id": "71c66640",
   "metadata": {},
   "source": [
    "## 💡 Add Sound, Effects & Animation"
   ]
  },
  {
   "cell_type": "code",
   "execution_count": null,
   "id": "a555bfa0",
   "metadata": {},
   "outputs": [],
   "source": [
    "# Sound on Swing\n",
    "\n",
    "local sound = Instance.new(\"Sound\", tool)\n",
    "sound.SoundId = \"rbxassetid://12345678\"\n",
    "sound:Play()\n"
   ]
  },
  {
   "cell_type": "code",
   "execution_count": null,
   "id": "543cd18d",
   "metadata": {},
   "outputs": [],
   "source": [
    "# Particles on Equip\n",
    "\n",
    "tool.Equipped:Connect(function()\n",
    "\tlocal effect = Instance.new(\"ParticleEmitter\", tool.Handle)\n",
    "\teffect:Emit(30)\n",
    "end)\n"
   ]
  },
  {
   "cell_type": "markdown",
   "id": "bf2e8d1d",
   "metadata": {},
   "source": [
    "## 🚀 Pro Tips for Advanced Tool Systems\n",
    "\n",
    "1. Weapon cooldowns\n",
    "\n",
    "2. Ammo system (gun tools)\n",
    "\n",
    "3. Tool leveling (RPG mechanics)\n",
    "\n",
    "4. Tool crafting system\n",
    "\n",
    "5. Dynamic hitboxes using Raycasting"
   ]
  },
  {
   "cell_type": "markdown",
   "id": "227c1e1d",
   "metadata": {},
   "source": [
    "## weapon cooldown with Tween animation"
   ]
  },
  {
   "cell_type": "code",
   "execution_count": null,
   "id": "80b1fc98",
   "metadata": {},
   "outputs": [],
   "source": [
    "local tool = script.Parent\n",
    "local player = game.Players.LocalPlayer\n",
    "local cooldown = 3 -- seconds\n",
    "\n",
    "-- Wait for GUI\n",
    "local cooldownUI = player:WaitForChild(\"PlayerGui\"):WaitForChild(\"CooldownUI\")\n",
    "local fillBar = cooldownUI.CooldownFrame.FillBar\n",
    "\n",
    "local TweenService = game:GetService(\"TweenService\")\n",
    "local canAttack = true\n",
    "\n",
    "-- Tween template\n",
    "local tweenInfo = TweenInfo.new(cooldown, Enum.EasingStyle.Linear, Enum.EasingDirection.In)\n",
    "\n",
    "tool.Activated:Connect(function()\n",
    "\tif not canAttack then\n",
    "\t\tprint(\"Still cooling down!\")\n",
    "\t\treturn\n",
    "\tend\n",
    "\n",
    "\tcanAttack = false\n",
    "\n",
    "\tprint(\"🔥 FireBlade Activated!\")\n",
    "\n",
    "\t-- Animate FillBar from full to empty\n",
    "\tfillBar.Size = UDim2.new(1, 0, 1, 0) -- full\n",
    "\tlocal shrinkTween = TweenService:Create(fillBar, tweenInfo, {Size = UDim2.new(0, 0, 1, 0)})\n",
    "\tshrinkTween:Play()\n",
    "\n",
    "\twait(cooldown)\n",
    "\n",
    "\tcanAttack = true\n",
    "\tprint(\"🔥 FireBlade Ready Again!\")\n",
    "\n",
    "\t-- Reset FillBar to full\n",
    "\tfillBar.Size = UDim2.new(1, 0, 1, 0)\n",
    "end)"
   ]
  },
  {
   "cell_type": "markdown",
   "id": "0d5eeb73",
   "metadata": {},
   "source": []
  },
  {
   "cell_type": "markdown",
   "id": "59b16bd4",
   "metadata": {},
   "source": []
  },
  {
   "cell_type": "markdown",
   "id": "802660d5",
   "metadata": {},
   "source": []
  },
  {
   "cell_type": "markdown",
   "id": "db198880",
   "metadata": {},
   "source": []
  }
 ],
 "metadata": {
  "kernelspec": {
   "display_name": "Python 3",
   "language": "python",
   "name": "python3"
  },
  "language_info": {
   "name": "python",
   "version": "3.11.9"
  }
 },
 "nbformat": 4,
 "nbformat_minor": 5
}
