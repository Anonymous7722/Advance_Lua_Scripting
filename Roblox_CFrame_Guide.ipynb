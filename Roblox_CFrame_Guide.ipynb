{
 "cells": [
  {
   "cell_type": "markdown",
   "id": "ccb0b7cd",
   "metadata": {},
   "source": [
    "## 0:00 Intro\n",
    "\n",
    "# 🎮 CFrame Mastery in Roblox Studio — Your New Superpower 🚀\n",
    "Welcome, future CFrame wizard!  \n",
    "Today we're diving into **CFrame** — the magical matrix that makes your parts dance, rotate, and fly into perfect positions.\n",
    "\n",
    "By the end of this, you'll **control 3D space like Doctor Strange**. 🌀  \n",
    "Oh, and there's a mini-project at the end you *can* actually drop into a real game. Let's go!"
   ]
  },
  {
   "cell_type": "markdown",
   "id": "28f7aede",
   "metadata": {},
   "source": [
    "## 0:29 CONCEPTION\n",
    "\n",
    "## 🧠 Concept\n",
    "- **CFrame** stands for **Coordinate Frame**.\n",
    "- Think of it as a **3D position + rotation combo**.\n",
    "- It's more powerful than just setting `.Position` or `.Orientation` separately.\n",
    "\n",
    "**Why?**\n",
    "- Move + rotate in a *single* command.\n",
    "- Create camera-like movements.\n",
    "- Attach things precisely relative to other objects.\n",
    "\n",
    "**Key point:** CFrame = `where` + `how it's rotated`"
   ]
  },
  {
   "cell_type": "markdown",
   "id": "10b55506",
   "metadata": {},
   "source": [
    "## 2:08 CFrame Basics\n",
    "\n",
    "## ⚙️ CFrame Basics\n",
    "Creating a CFrame:\n",
    "```lua\n",
    "-- Position at 0, 5, 0\n",
    "part.CFrame = CFrame.new(0, 5, 0)\n",
    "\n",
    "-- Match another part's CFrame\n",
    "part.CFrame = otherPart.CFrame\n",
    "\n",
    "-- Move relative to current position\n",
    "part.CFrame = part.CFrame + Vector3.new(0, 10, 0)\n",
    "```\n",
    "- `.new(x, y, z)` → only position.\n",
    "- `.new(Vector3, Vector3)` → position + look direction."
   ]
  },
  {
   "cell_type": "markdown",
   "id": "ee965c98",
   "metadata": {},
   "source": [
    "## 6:42 Angles / Rotation / Orientation\n",
    "\n",
    "## 🔄 Rotation & Orientation\n",
    "Rotation via **Euler angles**:\n",
    "```lua\n",
    "-- Rotate 90 degrees on Y-axis\n",
    "part.CFrame = CFrame.new(0, 5, 0) * CFrame.Angles(0, math.rad(90), 0)\n",
    "```\n",
    "- `CFrame.Angles(Xrot, Yrot, Zrot)` in **radians**.\n",
    "- Convert degrees with `math.rad()`.\n",
    "\n",
    "Orientation shortcut:\n",
    "```lua\n",
    "part.Orientation = Vector3.new(0, 90, 0) -- In degrees\n",
    "```"
   ]
  },
  {
   "cell_type": "markdown",
   "id": "359a2308",
   "metadata": {},
   "source": [
    "## 9:54 Face Towards a Part\n",
    "\n",
    "## 🎯 Face Towards Something\n",
    "Make an object look directly at another:\n",
    "```lua\n",
    "part.CFrame = CFrame.new(part.Position, target.Position)\n",
    "```\n",
    "- First argument → position.\n",
    "- Second argument → point to look at.\n",
    "\n",
    "Great for turrets, NPC heads, cameras."
   ]
  },
  {
   "cell_type": "markdown",
   "id": "5a14a892",
   "metadata": {},
   "source": [
    "## 13:29 CFrame Operations\n",
    "\n",
    "## 🛠️ CFrame Math Operations\n",
    "```lua\n",
    "local offset = CFrame.new(0, 5, 0)\n",
    "part.CFrame = part.CFrame * offset -- move 5 studs up relative to itself\n",
    "```\n",
    "- `*` → apply transformation.\n",
    "- `+` / `-` → move in world space.\n",
    "- Can chain rotations and movements:\n",
    "```lua\n",
    "part.CFrame = part.CFrame * CFrame.Angles(0, math.rad(45), 0) * CFrame.new(0, 0, -10)\n",
    "```"
   ]
  },
  {
   "cell_type": "markdown",
   "id": "a17d8265",
   "metadata": {},
   "source": [
    "## 17:54 Global vs Relative CFrames (ToWorldSpace())\n",
    "\n",
    "## 🌍 Global vs Relative\n",
    "Relative transformations:\n",
    "```lua\n",
    "-- Move relative to the part\n",
    "local relative = CFrame.new(0, 0, -5)\n",
    "part.CFrame = part.CFrame * relative\n",
    "```\n",
    "Convert local offset to global:\n",
    "```lua\n",
    "part.CFrame:ToWorldSpace(CFrame.new(0, 5, 0))\n",
    "```"
   ]
  },
  {
   "cell_type": "markdown",
   "id": "d16756b6",
   "metadata": {},
   "source": [
    "## 21:43 Vector Properties (Look, Right, Up)\n",
    "\n",
    "## 🧭 Vector Properties\n",
    "Every CFrame has:\n",
    "```lua\n",
    "part.CFrame.LookVector -- forward direction\n",
    "part.CFrame.RightVector -- right direction\n",
    "part.CFrame.UpVector -- up direction\n",
    "```\n",
    "Example: move forward 10 studs:\n",
    "```lua\n",
    "part.CFrame = part.CFrame + part.CFrame.LookVector * 10\n",
    "```"
   ]
  },
  {
   "cell_type": "markdown",
   "id": "995f2190",
   "metadata": {},
   "source": [
    "## 26:07 CFrame with Models\n",
    "\n",
    "## 🏗️ Moving Models\n",
    "To move a model, use `PrimaryPart`:\n",
    "```lua\n",
    "model:SetPrimaryPartCFrame(CFrame.new(0, 10, 0))\n",
    "```\n",
    "- Set `PrimaryPart` in Properties.\n",
    "- Then transformations apply to the **whole model**."
   ]
  },
  {
   "cell_type": "markdown",
   "id": "ba49be1d",
   "metadata": {},
   "source": [
    "## Mini Project\n",
    "\n",
    "# 🛠️ Mini Project — Turret That Tracks Player\n",
    "\n",
    "## 📜 Description\n",
    "A turret rotates to face the nearest player using CFrame.\n",
    "\n",
    "```lua\n",
    "local turret = script.Parent\n",
    "local head = turret.Head\n",
    "\n",
    "local function getNearestPlayer()\n",
    "    local closest, dist = nil, math.huge\n",
    "    for _, player in pairs(game.Players:GetPlayers()) do\n",
    "        if player.Character and player.Character:FindFirstChild(\"HumanoidRootPart\") then\n",
    "            local d = (head.Position - player.Character.HumanoidRootPart.Position).Magnitude\n",
    "            if d < dist then\n",
    "                dist = d\n",
    "                closest = player\n",
    "            end\n",
    "        end\n",
    "    end\n",
    "    return closest\n",
    "end\n",
    "\n",
    "while true do\n",
    "    local targetPlayer = getNearestPlayer()\n",
    "    if targetPlayer then\n",
    "        local targetPos = targetPlayer.Character.HumanoidRootPart.Position\n",
    "        head.CFrame = CFrame.new(head.Position, Vector3.new(targetPos.X, head.Position.Y, targetPos.Z))\n",
    "    end\n",
    "    task.wait(0.1)\n",
    "end\n",
    "```\n",
    "\n",
    "🎮 Drop this into a turret model, set `Head` as the rotating part.\n",
    "Perfect for defense games or security systems.\n"
   ]
  },
  {
   "cell_type": "markdown",
   "id": "e49ec103",
   "metadata": {},
   "source": [
    "| Method                          | Use Case                  | Syntax                                         |\n",
    "| ------------------------------- | ------------------------- | ---------------------------------------------- |\n",
    "| `CFrame.new(pos)`               | Move to position          | `CFrame.new(Vector3)`                          |\n",
    "| `CFrame.new(pos, lookAt)`       | Face something            | `CFrame.new(Vector3, Vector3)`                 |\n",
    "| `CFrame.Angles(x,y,z)`          | Rotate                    | `CFrame.Angles(math.rad(45),0,0)`              |\n",
    "| `CFrame.fromOrientation(x,y,z)` | Set rotation from numbers | `CFrame.fromOrientation(...)`                  |\n",
    "| `CFrame:ToWorldSpace(cf)`       | Convert local → world     | `cf1:ToWorldSpace(cf2)`                        |\n",
    "| `CFrame:ToObjectSpace(cf)`      | Convert world → local     | `cf1:ToObjectSpace(cf2)`                       |\n",
    "| `LookVector`                    | Move forward              | `part.CFrame + part.CFrame.LookVector * dist`  |\n",
    "| `RightVector`                   | Move sideways             | `part.CFrame + part.CFrame.RightVector * dist` |\n",
    "| `UpVector`                      | Move up                   | `part.CFrame + part.CFrame.UpVector * dist`    |\n",
    "| `CFrame:lerp(cf, t)`            |Interpolate between frames | `cf                                            |\n"
   ]
  },
  {
   "cell_type": "markdown",
   "id": "a78fdb57",
   "metadata": {},
   "source": []
  }
 ],
 "metadata": {
  "language_info": {
   "name": "python"
  }
 },
 "nbformat": 4,
 "nbformat_minor": 5
}
